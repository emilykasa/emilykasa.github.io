{
 "cells": [
  {
   "cell_type": "markdown",
   "metadata": {},
   "source": [
    "### Employing Linear Regression"
   ]
  },
  {
   "cell_type": "markdown",
   "metadata": {},
   "source": [
    " We estimate\n",
    "$\\beta_0$ and $\\beta_1$ by minimizing the sum of the squared errors:\n",
    "$$\n",
    "\\sum_{j=1}^n (y_j - \\beta_0 - \\beta_1 x_j)^2.$$\n",
    "\n",
    "By differentiating t with respect to $\\beta_0$ and $\\beta_1$, we get\n",
    "the normal equations:\n",
    "$$\\beta_0 +  \\overline x \\beta_1 =\\overline y$$\n",
    "$$ \\overline x \\beta_0 + \\overline{x^2} \\beta_1 = \\overline{xy}$$\n",
    "Solving these equations, we get $$\\hat \\beta_1 = \\frac{\\overline\n",
    "{xy} - \\bar x \\bar y}{\\overline {x^2} - (\\bar x)^2}=\n",
    "\\frac{S_{xy}}{S_{xx}},$$ where  $S_{xy} = n(\\overline{xy}\n",
    "-\\bar{x}\\bar{y})$ and\n",
    "$$\\hat \\beta_0 = \\overline y - \\overline x\n",
    "\\frac{S_{xy}}{S_{xx}}.$$"
   ]
  },
  {
   "cell_type": "code",
   "execution_count": 3,
   "metadata": {},
   "outputs": [],
   "source": [
    "import statsmodels.api as sm\n"
   ]
  },
  {
   "cell_type": "code",
   "execution_count": null,
   "metadata": {},
   "outputs": [],
   "source": []
  }
 ],
 "metadata": {
  "kernelspec": {
   "display_name": "Python 3",
   "language": "python",
   "name": "python3"
  },
  "language_info": {
   "codemirror_mode": {
    "name": "ipython",
    "version": 3
   },
   "file_extension": ".py",
   "mimetype": "text/x-python",
   "name": "python",
   "nbconvert_exporter": "python",
   "pygments_lexer": "ipython3",
   "version": "3.7.6"
  }
 },
 "nbformat": 4,
 "nbformat_minor": 4
}
